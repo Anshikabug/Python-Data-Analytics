{
 "cells": [
  {
   "cell_type": "code",
   "execution_count": 3,
   "metadata": {},
   "outputs": [
    {
     "data": {
      "text/plain": [
       "'Anshika'"
      ]
     },
     "execution_count": 3,
     "metadata": {},
     "output_type": "execute_result"
    }
   ],
   "source": [
    "input(\"Enter your name\")"
   ]
  },
  {
   "cell_type": "markdown",
   "metadata": {},
   "source": [
    "example ans= input(\"prompt\")\n"
   ]
  },
  {
   "cell_type": "code",
   "execution_count": 4,
   "metadata": {},
   "outputs": [],
   "source": [
    "name = input(\"Enter your name\")\n",
    "city = input(\"Enter your city\")\n",
    "color = input(\"Enter your favorite color\")\n",
    "fruit = input(\"Enter your favorite fruit\")\n",
    "luckynum = input(\"Enter your lucky number\")\n",
    "\n"
   ]
  },
  {
   "cell_type": "code",
   "execution_count": 5,
   "metadata": {},
   "outputs": [
    {
     "name": "stdout",
     "output_type": "stream",
     "text": [
      "10\n"
     ]
    }
   ],
   "source": [
    "a = input(\"Enter a number\")\n",
    "b = input(\"Enter a number\")\n",
    "print(a+b)\n"
   ]
  },
  {
   "cell_type": "markdown",
   "metadata": {},
   "source": [
    "typecasting\n",
    "\n",
    "    from one daataype => another\n",
    "    str => int (variable) => int"
   ]
  },
  {
   "cell_type": "code",
   "execution_count": 7,
   "metadata": {},
   "outputs": [
    {
     "data": {
      "text/plain": [
       "12.2"
      ]
     },
     "execution_count": 7,
     "metadata": {},
     "output_type": "execute_result"
    }
   ],
   "source": [
    "float (\"12.20\")"
   ]
  },
  {
   "cell_type": "code",
   "execution_count": 8,
   "metadata": {},
   "outputs": [
    {
     "name": "stdout",
     "output_type": "stream",
     "text": [
      "<class 'int'>\n",
      "<class 'str'>\n",
      "<class 'str'>\n",
      "<class 'float'>\n"
     ]
    }
   ],
   "source": [
    "a = 10\n",
    "b = \"10\"\n",
    "c = \"10.20\"\n",
    "d = 10.20\n",
    "print(type(a))\n",
    "print(type(b))\n",
    "print(type(c))\n",
    "print(type(d))"
   ]
  },
  {
   "cell_type": "code",
   "execution_count": 9,
   "metadata": {},
   "outputs": [
    {
     "name": "stdout",
     "output_type": "stream",
     "text": [
      "10.0\n",
      "10\n",
      "True\n"
     ]
    }
   ],
   "source": [
    "print(float(a))\n",
    "print(str(a))\n",
    "print(bool(a))"
   ]
  },
  {
   "cell_type": "code",
   "execution_count": 11,
   "metadata": {},
   "outputs": [
    {
     "name": "stdout",
     "output_type": "stream",
     "text": [
      "26\n"
     ]
    }
   ],
   "source": [
    "a = input(\"Enter a number\")\n",
    "b = input(\"Enter a number\")\n",
    "c = int(a) + int(b)\n",
    "print(c)"
   ]
  },
  {
   "cell_type": "code",
   "execution_count": 12,
   "metadata": {},
   "outputs": [
    {
     "name": "stdout",
     "output_type": "stream",
     "text": [
      "26\n"
     ]
    }
   ],
   "source": [
    "a = int(input(\"Enter a number\"))\n",
    "b = int(input(\"Enter a number\"))\n",
    "c = a + b\n",
    "print(c)"
   ]
  },
  {
   "cell_type": "code",
   "execution_count": 14,
   "metadata": {},
   "outputs": [
    {
     "name": "stdout",
     "output_type": "stream",
     "text": [
      "312.0\n"
     ]
    }
   ],
   "source": [
    "p = int(input(\"Enter the principle amount\"))\n",
    "r = float(input(\"Enter the rate of interest\"))\n",
    "t = int(input(\"Enter the time period\"))\n",
    "si = p*r*t/100\n",
    "print(si)"
   ]
  },
  {
   "cell_type": "markdown",
   "metadata": {},
   "source": [
    "answer: 12 - 3 = 9"
   ]
  },
  {
   "cell_type": "code",
   "execution_count": 15,
   "metadata": {},
   "outputs": [
    {
     "name": "stdout",
     "output_type": "stream",
     "text": [
      "answer : 12 - 3 = 9\n"
     ]
    }
   ],
   "source": [
    "a = 12\n",
    "b =3\n",
    "c = a-b\n",
    "print(\"answer :\",a, \"-\",b, \"=\",c )"
   ]
  },
  {
   "cell_type": "code",
   "execution_count": 22,
   "metadata": {},
   "outputs": [
    {
     "name": "stdout",
     "output_type": "stream",
     "text": [
      "3480.0\n",
      "Simple interest calculator\n",
      "Principle  = Rs 12000\n",
      "Rate =  2.9 %\n",
      "Time = 10\n",
      "_________________________\n",
      "Simple interest= 3480.0\n"
     ]
    }
   ],
   "source": [
    "p = int(input(\"Enter the principle amount\"))\n",
    "r = float(input(\"Enter the rate of interest\"))\n",
    "t = int(input(\"Enter the time period\"))\n",
    "si = p*r*t/100\n",
    "print(si)\n",
    "print(\"Simple interest calculator\")\n",
    "print(\"Principle  =\",\"Rs\",p)\n",
    "print(\"Rate = \",r,\"%\")\n",
    "print(\"Time =\",t)\n",
    "print(\"_\"* 25)\n",
    "print(\"Simple interest=\",si)"
   ]
  },
  {
   "cell_type": "code",
   "execution_count": 23,
   "metadata": {},
   "outputs": [
    {
     "name": "stdout",
     "output_type": "stream",
     "text": [
      "12,3,9,10.2\n"
     ]
    }
   ],
   "source": [
    "print(a,b,c,d,sep=\",\")"
   ]
  },
  {
   "cell_type": "code",
   "execution_count": 26,
   "metadata": {},
   "outputs": [
    {
     "name": "stdout",
     "output_type": "stream",
     "text": [
      "h-e-l-l-o\n",
      "f-r-u-i-t-s\n"
     ]
    }
   ],
   "source": [
    "print(*\"hello\", sep=\"-\")\n",
    "fruits = [\"apple\",\"banana\",\"cherry\"]\n",
    "print(*\"fruits\", sep=\"-\")"
   ]
  },
  {
   "cell_type": "code",
   "execution_count": 28,
   "metadata": {},
   "outputs": [
    {
     "name": "stdout",
     "output_type": "stream",
     "text": [
      "answer : 12 - 3 = 9\n",
      "answer :12-3=9\n"
     ]
    }
   ],
   "source": [
    "a = 12\n",
    "b = 3\n",
    "c = a-b\n",
    "print(\"answer :\",a,\"-\",b,\"=\",c) \n",
    "print(f\"answer :{a}-{b}={c}\") "
   ]
  },
  {
   "cell_type": "code",
   "execution_count": 29,
   "metadata": {},
   "outputs": [
    {
     "name": "stdout",
     "output_type": "stream",
     "text": [
      "Area of Triangle\n",
      "Base = 12 cm\n",
      "Height = 10 cm\n",
      "_______________\n",
      "Area =60.0 cm\n"
     ]
    }
   ],
   "source": [
    "# Area of triangle\n",
    "b = int(input(\"Enter the base of the triangle\"))\n",
    "h = int(input(\"Enter the height of the triangle\"))\n",
    "area = 1/2*b*h\n",
    "print(\"Area of Triangle\")\n",
    "print(f\"Base = {b} cm\")\n",
    "print(f\"Height = {h} cm\")\n",
    "print(\"_\"*15)\n",
    "print(f\"Area ={area} cm\")"
   ]
  },
  {
   "cell_type": "code",
   "execution_count": 12,
   "metadata": {},
   "outputs": [
    {
     "name": "stdout",
     "output_type": "stream",
     "text": [
      "3\n",
      "3.3\n",
      "3.33\n",
      "3.333\n"
     ]
    }
   ],
   "source": [
    "# roundoff calculation \n",
    "print(round(10/3))\n",
    "print(round(10/3,1))\n",
    "print(round(10/3,2))\n",
    "print(round(10/3,3))"
   ]
  },
  {
   "cell_type": "code",
   "execution_count": 11,
   "metadata": {},
   "outputs": [
    {
     "name": "stdout",
     "output_type": "stream",
     "text": [
      "10 divided by 7 is 1.4285714285714286\n",
      "10 divided by 7 is 1.4\n",
      "10 divided by 7 is 1.43\n",
      "10 divided by 7 is 1.429\n"
     ]
    }
   ],
   "source": [
    "# displaying roundoff\n",
    "a=10\n",
    "b=7\n",
    "c=a/b\n",
    "print(f\"{a} divided by {b} is {a/b}\")\n",
    "print(f\"{a} divided by {b} is {a/b:.1f}\")\n",
    "print(f\"{a} divided by {b} is {c:.2f}\")\n",
    "print(f\"{a} divided by {b} is {a/b:.3f}\")"
   ]
  },
  {
   "cell_type": "code",
   "execution_count": 10,
   "metadata": {},
   "outputs": [
    {
     "name": "stdout",
     "output_type": "stream",
     "text": [
      "                        The final empire |   Bradon Sanderson   | 499\n",
      "                          The art of war |       Sun Tzu        | 239\n",
      "   Stormlight Archives: The way of kings |   Bradon Sanderson   | 550\n"
     ]
    }
   ],
   "source": [
    "# text alignment\n",
    "n1 = \"The final empire\"\n",
    "a1 = \"Bradon Sanderson\"\n",
    "p1 = \"499\"\n",
    "n2 = \"The art of war\"\n",
    "a2 = \"Sun Tzu\"\n",
    "p2 = 239\n",
    "n3 = \"Stormlight Archives: The way of kings\"\n",
    "a3 = \"Bradon Sanderson\"\n",
    "p3 = \"550\"\n",
    "print(f\"{n1:>40} | {a1:^20} | {p1}\") # \">\" is used for right alignment and \"^\" is used for centre alignment\n",
    "print(f\"{n2:>40} | {a2:^20} | {p2}\")\n",
    "print(f\"{n3:>40} | {a3:^20} | {p3}\")"
   ]
  },
  {
   "cell_type": "code",
   "execution_count": null,
   "metadata": {},
   "outputs": [],
   "source": []
  }
 ],
 "metadata": {
  "kernelspec": {
   "display_name": "base",
   "language": "python",
   "name": "python3"
  },
  "language_info": {
   "codemirror_mode": {
    "name": "ipython",
    "version": 3
   },
   "file_extension": ".py",
   "mimetype": "text/x-python",
   "name": "python",
   "nbconvert_exporter": "python",
   "pygments_lexer": "ipython3",
   "version": "3.12.3"
  }
 },
 "nbformat": 4,
 "nbformat_minor": 2
}
