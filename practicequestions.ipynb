{
 "cells": [
  {
   "cell_type": "code",
   "execution_count": 1,
   "metadata": {},
   "outputs": [
    {
     "name": "stdout",
     "output_type": "stream",
     "text": [
      "1\n",
      "2\n",
      "3\n",
      "4\n",
      "5\n",
      "6\n",
      "7\n",
      "8\n",
      "9\n",
      "10\n"
     ]
    }
   ],
   "source": [
    "#1 wap to print numbers 1 to 10 using a for loop\n",
    "for i in range(1,11):\n",
    "    if i==11:\n",
    "        break\n",
    "    else:\n",
    "        print(i)"
   ]
  },
  {
   "cell_type": "code",
   "execution_count": 2,
   "metadata": {},
   "outputs": [
    {
     "name": "stdout",
     "output_type": "stream",
     "text": [
      "12*1=12\n",
      "12*2=24\n",
      "12*3=36\n",
      "12*4=48\n",
      "12*5=60\n",
      "12*6=72\n",
      "12*7=84\n",
      "12*8=96\n",
      "12*9=108\n",
      "12*10=120\n"
     ]
    }
   ],
   "source": [
    "#2 wap to print multiplication table of a given number \n",
    "n=int(input(\"Enter any number\"))\n",
    "for i in range(1,11):\n",
    "    print(f\"{n}*{i}={n*i}\")"
   ]
  },
  {
   "cell_type": "code",
   "execution_count": 4,
   "metadata": {},
   "outputs": [
    {
     "name": "stdout",
     "output_type": "stream",
     "text": [
      "120\n"
     ]
    }
   ],
   "source": [
    "#5 wap to find the factorial of a given number using for loop\n",
    "n=int(input(\"Enter any number\"))\n",
    "fac=1\n",
    "for i in range(1,n+1):\n",
    "    fac=fac*i\n",
    "print(fac)"
   ]
  },
  {
   "cell_type": "code",
   "execution_count": 7,
   "metadata": {},
   "outputs": [
    {
     "name": "stdout",
     "output_type": "stream",
     "text": [
      "2550\n"
     ]
    }
   ],
   "source": [
    "#3 wap to to find sum of all even numbers between 1 and 100 using loop\n",
    "sum=0\n",
    "for i in range(1,101):\n",
    "    if i % 2==0:\n",
    "        sum += i\n",
    "print(sum)\n"
   ]
  },
  {
   "cell_type": "code",
   "execution_count": 2,
   "metadata": {},
   "outputs": [
    {
     "name": "stdout",
     "output_type": "stream",
     "text": [
      "tintin\n",
      "it is not palindrome\n"
     ]
    }
   ],
   "source": [
    "# wap to check if a given string is a palindrome using a for loop\n",
    "a=input(\"Enter any string\")\n",
    "print(a)\n",
    "for i in a:\n",
    "    if a == a[::-1]:\n",
    "        print(\"It is a palindrome\")\n",
    "        break\n",
    "else:\n",
    "    print(\"it is not palindrome\")"
   ]
  },
  {
   "cell_type": "code",
   "execution_count": 29,
   "metadata": {},
   "outputs": [
    {
     "name": "stdout",
     "output_type": "stream",
     "text": [
      "My name is Anshikaa <class 'str'>\n"
     ]
    }
   ],
   "source": [
    "# create a program and print it.\n",
    "n=(\"My name is Anshikaa\")\n",
    "print(n,type(n))"
   ]
  },
  {
   "cell_type": "code",
   "execution_count": 32,
   "metadata": {},
   "outputs": [
    {
     "name": "stdout",
     "output_type": "stream",
     "text": [
      "this world is beautiful\n",
      "23\n"
     ]
    }
   ],
   "source": [
    "# Take a string input and print its length.\n",
    "a=input(\"Enter anything\")\n",
    "print(a)\n",
    "print(len(a))"
   ]
  },
  {
   "cell_type": "code",
   "execution_count": 34,
   "metadata": {},
   "outputs": [
    {
     "name": "stdout",
     "output_type": "stream",
     "text": [
      "great\n"
     ]
    }
   ],
   "source": [
    "# print the last word of the string Python is great using slices\n",
    "a = (\"Python is great\")\n",
    "print(a[10:15])"
   ]
  },
  {
   "cell_type": "code",
   "execution_count": 41,
   "metadata": {},
   "outputs": [
    {
     "name": "stdout",
     "output_type": "stream",
     "text": [
      "python \n",
      "is \n",
      "everywhere\n"
     ]
    }
   ],
   "source": [
    "# print the each word in different line of string python is everywhere\n",
    "print('''python \n",
    "is \n",
    "everywhere''')"
   ]
  },
  {
   "cell_type": "code",
   "execution_count": 36,
   "metadata": {},
   "outputs": [
    {
     "name": "stdout",
     "output_type": "stream",
     "text": [
      "!dlroW olleH\n"
     ]
    }
   ],
   "source": [
    "# print the string Hello World! in reverse.\n",
    "x= (\"Hello World!\")\n",
    "print(x[::-1])"
   ]
  },
  {
   "cell_type": "code",
   "execution_count": 40,
   "metadata": {},
   "outputs": [
    {
     "name": "stdout",
     "output_type": "stream",
     "text": [
      "False\n",
      "HOW ARE YOU?\n"
     ]
    }
   ],
   "source": [
    "# convert the string How are you? in uppercase\n",
    "a= (\"How are you?\")\n",
    "print(a.isupper())\n",
    "print(a.upper())"
   ]
  },
  {
   "cell_type": "code",
   "execution_count": 44,
   "metadata": {},
   "outputs": [
    {
     "name": "stdout",
     "output_type": "stream",
     "text": [
      "how is it going?\n"
     ]
    }
   ],
   "source": [
    "# convert the string How Is It Going? in lowercase\n",
    "print(\"How Is It Going?\".lower())"
   ]
  },
  {
   "cell_type": "code",
   "execution_count": 47,
   "metadata": {},
   "outputs": [
    {
     "name": "stdout",
     "output_type": "stream",
     "text": [
      "['Python', 'is', 'easy', 'to', 'learn']\n",
      "Python is easy to learn\n"
     ]
    }
   ],
   "source": [
    "# join the following list by spaces( )and print the result (words=[\"Python\",\"is\",\"easy\",\"to\",\"learn\"]\n",
    "words=[\"Python\",\"is\",\"easy\",\"to\",\"learn\"]\n",
    "print(words)\n",
    "words1=\" \".join(words)\n",
    "print(words1)"
   ]
  },
  {
   "cell_type": "code",
   "execution_count": 50,
   "metadata": {},
   "outputs": [
    {
     "name": "stdout",
     "output_type": "stream",
     "text": [
      "once upon a time\n",
      "there lived a tiger \n",
      "in the jungle.\n",
      "he was king of the jungle\n"
     ]
    }
   ],
   "source": [
    "# print a multiline string using a single print\n",
    "print('''once upon a time\n",
    "there lived a tiger \n",
    "in the jungle.\n",
    "he was king of the jungle''' )"
   ]
  },
  {
   "cell_type": "code",
   "execution_count": 52,
   "metadata": {},
   "outputs": [
    {
     "name": "stdout",
     "output_type": "stream",
     "text": [
      "to move to newline '\n",
      "' is used\n",
      "to move to newline '\\n' is used\n"
     ]
    }
   ],
   "source": [
    "# print this string to move to newline \"\\n\" is used.\n",
    "print(\"to move to newline '\\n' is used\")\n",
    "print(r\"to move to newline '\\n' is used\")\n"
   ]
  },
  {
   "cell_type": "code",
   "execution_count": 7,
   "metadata": {},
   "outputs": [
    {
     "name": "stdout",
     "output_type": "stream",
     "text": [
      "5*1=5\n",
      "5*2=10\n",
      "5*3=15\n",
      "5*4=20\n",
      "5*5=25\n",
      "5*6=30\n",
      "5*7=35\n",
      "5*8=40\n",
      "5*9=45\n",
      "5*10=50\n"
     ]
    }
   ],
   "source": [
    "#2 wap to print multiplication table of a given number using while loop\n",
    "n=int(input(\"Enter any number\"))\n",
    "i=1\n",
    "while i<=10:\n",
    "    print(f\"{n}*{i}={n*i}\")\n",
    "    i+=1\n"
   ]
  },
  {
   "cell_type": "code",
   "execution_count": 1,
   "metadata": {},
   "outputs": [
    {
     "name": "stdout",
     "output_type": "stream",
     "text": [
      "Prime\n"
     ]
    }
   ],
   "source": [
    "#4 wap a program to print a prime number using while loop\n",
    "num=int(input(\"Enter the number:\"))\n",
    "i=2\n",
    "while i<num:\n",
    "    if num%i==0:\n",
    "        print(\"Not prime\")\n",
    "        break\n",
    "    i+= 1\n",
    "else:\n",
    "    print(\"Prime\")"
   ]
  },
  {
   "cell_type": "code",
   "execution_count": 19,
   "metadata": {},
   "outputs": [
    {
     "name": "stdout",
     "output_type": "stream",
     "text": [
      "1\n",
      "2\n",
      "3\n",
      "5\n",
      "8\n",
      "13\n",
      "21\n",
      "34\n",
      "55\n",
      "89\n",
      "144\n",
      "233\n",
      "377\n",
      "610\n",
      "987\n",
      "1597\n",
      "2584\n",
      "4181\n",
      "6765\n",
      "10946\n"
     ]
    }
   ],
   "source": [
    "#6 wap to print fibonnaci series of a number using up to a given limit using a for loop\n",
    "n=int(input(\"Enter any number: \"))\n",
    "x=0\n",
    "y=1\n",
    "for i in range(0,n):\n",
    "    fib=x+y\n",
    "    x=y\n",
    "    y=fib\n",
    "    print(fib)\n"
   ]
  },
  {
   "cell_type": "code",
   "execution_count": null,
   "metadata": {},
   "outputs": [],
   "source": []
  }
 ],
 "metadata": {
  "kernelspec": {
   "display_name": "base",
   "language": "python",
   "name": "python3"
  },
  "language_info": {
   "codemirror_mode": {
    "name": "ipython",
    "version": 3
   },
   "file_extension": ".py",
   "mimetype": "text/x-python",
   "name": "python",
   "nbconvert_exporter": "python",
   "pygments_lexer": "ipython3",
   "version": "3.12.3"
  }
 },
 "nbformat": 4,
 "nbformat_minor": 2
}
