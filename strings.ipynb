{
 "cells": [
  {
   "cell_type": "markdown",
   "metadata": {},
   "source": [
    "### Strings\n",
    "- creation\n",
    "- indexing and slicing\n",
    "- method"
   ]
  },
  {
   "cell_type": "code",
   "execution_count": 48,
   "metadata": {},
   "outputs": [
    {
     "name": "stdout",
     "output_type": "stream",
     "text": [
      "<class 'str'>\n"
     ]
    }
   ],
   "source": [
    "# single quoted\n",
    "a = 'apple'\n",
    "print(type(a))"
   ]
  },
  {
   "cell_type": "code",
   "execution_count": 2,
   "metadata": {},
   "outputs": [
    {
     "name": "stdout",
     "output_type": "stream",
     "text": [
      "<class 'str'>\n"
     ]
    }
   ],
   "source": [
    "# double quoted\n",
    "b= \"big apple\"\n",
    "print(type(a))"
   ]
  },
  {
   "cell_type": "code",
   "execution_count": 3,
   "metadata": {},
   "outputs": [
    {
     "name": "stdout",
     "output_type": "stream",
     "text": [
      "<class 'str'>\n"
     ]
    }
   ],
   "source": [
    "# triple quoted\n",
    "c ='''this is\n",
    "a string.\n",
    "ans its in triple\n",
    "quotes'''\n",
    "print(type(c))"
   ]
  },
  {
   "cell_type": "code",
   "execution_count": 4,
   "metadata": {},
   "outputs": [
    {
     "name": "stdout",
     "output_type": "stream",
     "text": [
      "<class 'str'>\n"
     ]
    }
   ],
   "source": [
    "d = str(12345)\n",
    "print(type(d))"
   ]
  },
  {
   "cell_type": "markdown",
   "metadata": {},
   "source": [
    "### types of strings\n",
    "- byte b\"hello\"\n",
    "- raw r\"hello\"\n",
    "- format f\"hello {a}\""
   ]
  },
  {
   "cell_type": "code",
   "execution_count": 49,
   "metadata": {},
   "outputs": [
    {
     "name": "stdout",
     "output_type": "stream",
     "text": [
      "b'this is a byte string'\n",
      "this is \\n\\n\\n a byte string\n",
      "apple is a value\n"
     ]
    }
   ],
   "source": [
    "print(b\"this is a byte string\")\n",
    "print(r\"this is \\n\\n\\n a byte string\")\n",
    "print(f\"{a} is a value\")"
   ]
  },
  {
   "cell_type": "markdown",
   "metadata": {},
   "source": [
    "### indexing\n",
    "```\n",
    "-5 -4 -3 -2 -1\n",
    " a  p  p  l  e\n",
    " 0  1  2  3  4\n",
    "\n",
    " ```"
   ]
  },
  {
   "cell_type": "code",
   "execution_count": 9,
   "metadata": {},
   "outputs": [
    {
     "name": "stdout",
     "output_type": "stream",
     "text": [
      "G\n",
      "r\n",
      "e\n",
      "e\n",
      "k\n"
     ]
    }
   ],
   "source": [
    "word =\"Greek\"\n",
    "print(word[0])\n",
    "print(word[1])\n",
    "print(word[2])\n",
    "print(word[-2])\n",
    "print(word[-1])"
   ]
  },
  {
   "cell_type": "code",
   "execution_count": 11,
   "metadata": {},
   "outputs": [
    {
     "name": "stdout",
     "output_type": "stream",
     "text": [
      "d\n",
      "n\n"
     ]
    }
   ],
   "source": [
    "msg = \"Journey before destination\"\n",
    "print(msg[15])\n",
    "print(msg[-6])"
   ]
  },
  {
   "cell_type": "code",
   "execution_count": 12,
   "metadata": {},
   "outputs": [
    {
     "name": "stdout",
     "output_type": "stream",
     "text": [
      "Journey\n"
     ]
    }
   ],
   "source": [
    "print(msg[0]+msg[1]+msg[2]+msg[3]+msg[4]+msg[5]+msg[6])"
   ]
  },
  {
   "cell_type": "code",
   "execution_count": 13,
   "metadata": {},
   "outputs": [
    {
     "name": "stdout",
     "output_type": "stream",
     "text": [
      "Journey\n"
     ]
    }
   ],
   "source": [
    "print(msg[0:7])"
   ]
  },
  {
   "cell_type": "code",
   "execution_count": 14,
   "metadata": {},
   "outputs": [
    {
     "name": "stdout",
     "output_type": "stream",
     "text": [
      "before\n"
     ]
    }
   ],
   "source": [
    "print(msg[8:14])"
   ]
  },
  {
   "cell_type": "code",
   "execution_count": 15,
   "metadata": {},
   "outputs": [
    {
     "name": "stdout",
     "output_type": "stream",
     "text": [
      " destination\n"
     ]
    }
   ],
   "source": [
    "print(msg[14:])"
   ]
  },
  {
   "cell_type": "code",
   "execution_count": 22,
   "metadata": {},
   "outputs": [
    {
     "name": "stdout",
     "output_type": "stream",
     "text": [
      "Vijay\n",
      "Deenanath\n",
      "Chauhan\n"
     ]
    }
   ],
   "source": [
    "name = \"Vijay Deenanath Chauhan\"\n",
    "fname = print(name[:5])\n",
    "mname = print (name[6:-8])\n",
    "lname = print(name[16:23])"
   ]
  },
  {
   "cell_type": "code",
   "execution_count": 28,
   "metadata": {},
   "outputs": [
    {
     "name": "stdout",
     "output_type": "stream",
     "text": [
      "nahuahC htananeeD yajiV\n",
      "VjyDeaahCahn\n",
      "ia ennt hua\n",
      " Deenanath Ch\n"
     ]
    }
   ],
   "source": [
    "# reverse\n",
    "print(name[::-1])\n",
    "# step\n",
    "print(name[::2])\n",
    "print(name[1::2])\n",
    "# leaving out start and end\n",
    "print(name[5:-5])"
   ]
  },
  {
   "cell_type": "code",
   "execution_count": 39,
   "metadata": {},
   "outputs": [
    {
     "name": "stdout",
     "output_type": "stream",
     "text": [
      "5599.25\n"
     ]
    }
   ],
   "source": [
    "x = \"$5599.25 only\"\n",
    "x=float(x[1:-5])\n",
    "print(x)"
   ]
  },
  {
   "cell_type": "code",
   "execution_count": 50,
   "metadata": {},
   "outputs": [
    {
     "data": {
      "text/plain": [
       "'Apple'"
      ]
     },
     "execution_count": 50,
     "metadata": {},
     "output_type": "execute_result"
    }
   ],
   "source": [
    "a.title()"
   ]
  },
  {
   "cell_type": "markdown",
   "metadata": {},
   "source": [
    "## string methods\n",
    "- formatting\n",
    "    - upper()\n",
    "    - lower()\n",
    "    - capitalize()\n",
    "    - title()\n",
    "    - swapcase()\n",
    "    - casefold()\n",
    "    - center()\n",
    "    - ljust()\n",
    "    - rjust() \n",
    "- validation\n",
    "- utility function"
   ]
  },
  {
   "cell_type": "code",
   "execution_count": 54,
   "metadata": {},
   "outputs": [
    {
     "name": "stdout",
     "output_type": "stream",
     "text": [
      "LIFE IS BEAUTIFUL\n",
      "life is beautiful\n",
      "Life Is Beautiful\n",
      "Life is beautiful\n",
      "lIFE IS bEAUTIFUL\n",
      "life is beautiful\n",
      "                Life is Beautiful                 \n",
      "Life is Beautiful                                 \n",
      "                                 Life is Beautiful\n",
      "*********************************Life is Beautiful\n",
      "Life is Beautiful*********************************\n",
      "****************Life is Beautiful*****************\n"
     ]
    }
   ],
   "source": [
    "msg = \"Life is Beautiful\"\n",
    "print(msg.upper())\n",
    "print(msg.lower())\n",
    "print(msg.title())\n",
    "print(msg.capitalize())\n",
    "print(msg.swapcase())\n",
    "print(msg.casefold())\n",
    "print(msg.center(50))\n",
    "print(msg.ljust(50))\n",
    "print(msg.rjust(50))\n",
    "print(msg.rjust(50,\"*\"))\n",
    "print(msg.ljust(50,\"*\"))\n",
    "print(msg.center(50,\"*\"))"
   ]
  },
  {
   "cell_type": "markdown",
   "metadata": {},
   "source": [
    "- validation method\n",
    "    - isalpha()\n",
    "    - isalnum()\n",
    "    - is numeric()\n",
    "    - isdigit()\n",
    "    - isspace()\n",
    "    - isascii()\n",
    "    - isprintable()\n",
    "    - isupper()\n",
    "    - islower()"
   ]
  },
  {
   "cell_type": "code",
   "execution_count": 55,
   "metadata": {},
   "outputs": [
    {
     "name": "stdout",
     "output_type": "stream",
     "text": [
      "anshika\n",
      "True\n",
      "True\n",
      "False\n",
      "False\n",
      "True\n",
      "True\n",
      "False\n",
      "True\n"
     ]
    }
   ],
   "source": [
    "data = input(\"Enter data:\")\n",
    "print(data)\n",
    "print(data.isalpha())\n",
    "print(data.isalnum())\n",
    "print(data.isnumeric())\n",
    "print(data.isdigit())\n",
    "print(data.isascii())\n",
    "print(data.isprintable())\n",
    "print(data.isupper())\n",
    "print(data.islower())"
   ]
  },
  {
   "cell_type": "code",
   "execution_count": null,
   "metadata": {},
   "outputs": [],
   "source": []
  }
 ],
 "metadata": {
  "kernelspec": {
   "display_name": "base",
   "language": "python",
   "name": "python3"
  },
  "language_info": {
   "codemirror_mode": {
    "name": "ipython",
    "version": 3
   },
   "file_extension": ".py",
   "mimetype": "text/x-python",
   "name": "python",
   "nbconvert_exporter": "python",
   "pygments_lexer": "ipython3",
   "version": "3.12.3"
  }
 },
 "nbformat": 4,
 "nbformat_minor": 2
}
