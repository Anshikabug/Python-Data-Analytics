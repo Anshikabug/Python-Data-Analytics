{
 "cells": [
  {
   "cell_type": "markdown",
   "metadata": {},
   "source": [
    "## list\n",
    "- create\n",
    "- indexing and slicing\n",
    "- method\n",
    "    - "
   ]
  },
  {
   "cell_type": "code",
   "execution_count": 1,
   "metadata": {},
   "outputs": [
    {
     "name": "stdout",
     "output_type": "stream",
     "text": [
      "[1, 2, 3, 4] <class 'list'>\n",
      "['Alice', 'Bob', 'Charlie'] <class 'list'>\n",
      "['apple', 50, 'mango', 100, 'orange', 70]\n",
      "[[1, 2, 3], [4, 5, 6], [7, 8]]\n",
      "[1, 1, 1, 1, 1, 1, 1, 1, 1, 1]\n",
      "['v', 'e', 'r', 't', 'e', 'x']\n",
      "['welcome', 'to', 'listing']\n"
     ]
    }
   ],
   "source": [
    "a= [1,2,3,4]\n",
    "print(a,type(a))\n",
    "names=[\"Alice\",\"Bob\",\"Charlie\"]\n",
    "print(names, type(names))\n",
    "data =[\"apple\",50,\"mango\",100,\"orange\",70]\n",
    "nested_list=[[1,2,3],[4,5,6],[7,8]]\n",
    "print(data)\n",
    "print(nested_list)\n",
    "duplicated_list=[1]*10\n",
    "print(duplicated_list)\n",
    "print(list(\"vertex\"))\n",
    "print(\"welcome to listing\".split())\n"
   ]
  },
  {
   "cell_type": "code",
   "execution_count": 2,
   "metadata": {},
   "outputs": [
    {
     "name": "stdout",
     "output_type": "stream",
     "text": [
      "first five = [11, 12, 13, 14, 15, 16]\n",
      "last five = [11, 12, 13, 14, 15]\n",
      "last element = 20\n",
      "first five = 11\n",
      "except first two and last two = [13, 14, 15, 16, 17, 18]\n",
      "reverse list= [13, 14, 15, 16, 17, 18]\n",
      "reverse first five element [15, 14, 13, 12, 11]\n",
      "all even indexes [11, 13, 15, 17, 19]\n",
      "all odd indexes [12, 14, 16, 18, 20]\n"
     ]
    }
   ],
   "source": [
    "n=[11,12,13,14,15,16,17,18,19,20]\n",
    "print(\"first five =\",n[:6])\n",
    "print(\"last five =\",n[:-5])\n",
    "print(\"last element =\",n[-1])\n",
    "print(\"first five =\",n[0])\n",
    "print(\"except first two and last two =\",n[2:-2])\n",
    "print(\"reverse list=\",n[2:-2])\n",
    "print(\"reverse first five element\",n[4::-1])\n",
    "print(\"all even indexes\",n[::2])\n",
    "print(\"all odd indexes\",n[1::2])"
   ]
  },
  {
   "cell_type": "code",
   "execution_count": 3,
   "metadata": {},
   "outputs": [
    {
     "name": "stdout",
     "output_type": "stream",
     "text": [
      "[11, 12, 13, 14, 15, 100, 17, 18, 19, 20]\n",
      "[200, 12, 13, 14, 15, 100, 17, 18, 19, 20]\n"
     ]
    }
   ],
   "source": [
    "# list is mutable\n",
    "n[5]=100 # update\n",
    "print(n)\n",
    "n[0]=200\n",
    "print(n)"
   ]
  },
  {
   "cell_type": "code",
   "execution_count": 4,
   "metadata": {},
   "outputs": [
    {
     "name": "stdout",
     "output_type": "stream",
     "text": [
      "<class 'list'>\n",
      "0\n",
      "['Star wars', 'Five feet apart', 'The core', 'Gifted', 'Jumanji']\n",
      "5\n"
     ]
    }
   ],
   "source": [
    "movies=[]\n",
    "print(type(movies))\n",
    "print(len(movies))\n",
    "movies.append(\"Star wars\")\n",
    "movies.append(\"Five feet apart\")\n",
    "movies.append(\"The core\")\n",
    "movies.append(\"Gifted\")\n",
    "movies.append(\"Jumanji\")\n",
    "print(movies)\n",
    "print(len(movies))"
   ]
  },
  {
   "cell_type": "code",
   "execution_count": 5,
   "metadata": {},
   "outputs": [
    {
     "name": "stdout",
     "output_type": "stream",
     "text": [
      "['fast and furious', '2 fast 2 furious', 'fast and furious:Tokyo drift', 'fast 5', 'fast and furious 6']\n",
      "['fast and furious', '2 fast 2 furious', 'fast and furious:Tokyo drift', 'fast and furious 4', 'fast 5', 'fast and furious 6']\n"
     ]
    }
   ],
   "source": [
    "ff=[\"fast and furious\",\"2 fast 2 furious\",\"fast and furious:Tokyo drift\",\"fast 5\"]\n",
    "ff.append(\"fast and furious 6\")\n",
    "print(ff)\n",
    "ff.insert(3,\"fast and furious 4\")\n",
    "print(ff)"
   ]
  },
  {
   "cell_type": "code",
   "execution_count": 6,
   "metadata": {},
   "outputs": [
    {
     "name": "stdout",
     "output_type": "stream",
     "text": [
      "[1, 2, 3, 4, 4, 6, 7, 8, 9]\n",
      "[1, 2, 3, 4, 5, 4, 6, 7, 8, 9]\n",
      "[1, 2, 3, 4, 5, 4, 6, 7, 8, 9, 5]\n"
     ]
    }
   ],
   "source": [
    "n=[1,2,3,4,6,7,8,9]\n",
    "n.insert(3,4)# on 3rd index, insert value=4\n",
    "print(n)\n",
    "n.insert(4,5)# on 4th index, insert value=5\n",
    "print(n)\n",
    "n.insert(100,5)# invalid index so it will insert at the end\n",
    "print(n)"
   ]
  },
  {
   "cell_type": "code",
   "execution_count": 7,
   "metadata": {},
   "outputs": [
    {
     "name": "stdout",
     "output_type": "stream",
     "text": [
      "[1, 2, 3, 4, 5, 6]\n",
      "[4, 5, 6, 7, 8, 9]\n",
      "[4, 5, 6, 7, 8, 9, 5, 6, 7, 8, 9]\n",
      "[1, 2, 3, 4, 5, 6, 7, 8, 9]\n"
     ]
    }
   ],
   "source": [
    "# adding a list in another list\n",
    "l1=[1,2,3]\n",
    "l2=[4,5,6]\n",
    "l3=[7,8,9]\n",
    "l1.extend(l2)\n",
    "print(l1)\n",
    "l2.extend(l3)\n",
    "print(l2)\n",
    "l2.extend([5,6,7,8,9])\n",
    "print(l2)\n",
    "l1.extend(l3)\n",
    "print(l1)\n",
    "\n"
   ]
  },
  {
   "cell_type": "code",
   "execution_count": 11,
   "metadata": {},
   "outputs": [
    {
     "name": "stdout",
     "output_type": "stream",
     "text": [
      "[2, 4, 4, 6, 7, 8, 9, 5]\n",
      "[2, 4, 6, 7, 8, 9, 5]\n"
     ]
    }
   ],
   "source": [
    "n.remove(1) #search where is 3 and remove it\n",
    "print(n)\n",
    "n.remove(4) # remove first 5\n",
    "print(n)"
   ]
  },
  {
   "cell_type": "code",
   "execution_count": 12,
   "metadata": {},
   "outputs": [
    {
     "data": {
      "text/plain": [
       "7"
      ]
     },
     "execution_count": 12,
     "metadata": {},
     "output_type": "execute_result"
    }
   ],
   "source": [
    "n.pop(3) #index wise removal"
   ]
  },
  {
   "cell_type": "code",
   "execution_count": 13,
   "metadata": {},
   "outputs": [
    {
     "data": {
      "text/plain": [
       "5"
      ]
     },
     "execution_count": 13,
     "metadata": {},
     "output_type": "execute_result"
    }
   ],
   "source": [
    "n.pop() # it removes last value"
   ]
  },
  {
   "cell_type": "code",
   "execution_count": 14,
   "metadata": {},
   "outputs": [
    {
     "name": "stdout",
     "output_type": "stream",
     "text": [
      "[]\n"
     ]
    }
   ],
   "source": [
    "n.clear()# to remove all elements of the list\n",
    "print(n)"
   ]
  },
  {
   "cell_type": "code",
   "execution_count": 16,
   "metadata": {},
   "outputs": [
    {
     "name": "stdout",
     "output_type": "stream",
     "text": [
      "6\n",
      "6\n",
      "3\n",
      "0\n"
     ]
    }
   ],
   "source": [
    "x =[1,2,3,1,1,1,2,2,2,3,1,2,1,3,2]\n",
    "print(x.count(1))\n",
    "print(x.count(2))\n",
    "print(x.count(3))\n",
    "print(x.count(4))"
   ]
  },
  {
   "cell_type": "code",
   "execution_count": 17,
   "metadata": {},
   "outputs": [
    {
     "name": "stdout",
     "output_type": "stream",
     "text": [
      "[5, 4, 3, 2, 1]\n"
     ]
    }
   ],
   "source": [
    "y=[1,2,3,4,5]\n",
    "y.reverse()\n",
    "print(y)"
   ]
  },
  {
   "cell_type": "code",
   "execution_count": 19,
   "metadata": {},
   "outputs": [
    {
     "name": "stdout",
     "output_type": "stream",
     "text": [
      "['Akbar', 'Rahul', 'Salman', 'Vijay']\n",
      "['Vijay', 'Salman', 'Rahul', 'Akbar']\n"
     ]
    }
   ],
   "source": [
    "names=[\"Vijay\",\"Salman\",\"Rahul\",\"Akbar\"]\n",
    "names.sort()\n",
    "print(names)\n",
    "names.sort(reverse=True)\n",
    "print(names)"
   ]
  },
  {
   "cell_type": "code",
   "execution_count": 20,
   "metadata": {},
   "outputs": [
    {
     "name": "stdout",
     "output_type": "stream",
     "text": [
      "['apple', 'banana', 'cherry', 'grapes']\n",
      "1\n"
     ]
    }
   ],
   "source": [
    "fruits = [\"apple\",\"banana\",\"cherry\",\"grapes\"]\n",
    "print(fruits)\n",
    "fru_idx = fruits.index(\"banana\")\n",
    "print(fru_idx)"
   ]
  },
  {
   "cell_type": "code",
   "execution_count": 22,
   "metadata": {},
   "outputs": [
    {
     "name": "stdout",
     "output_type": "stream",
     "text": [
      "[1, 2, 3, 4, 5]\n",
      "[1, 2, 3, 4, 5]\n",
      "[1, 2, 3, 6]\n"
     ]
    }
   ],
   "source": [
    "x=[1,2,3]\n",
    "y=x # y is a reference to x\n",
    "z=x.copy() # z is a shallow copy of x\n",
    "x.append(4)\n",
    "y.append(5)\n",
    "z.append(6)\n",
    "print(x)\n",
    "print(y)\n",
    "print(z)"
   ]
  },
  {
   "cell_type": "markdown",
   "metadata": {},
   "source": [
    "### Comphresion"
   ]
  },
  {
   "cell_type": "code",
   "execution_count": 23,
   "metadata": {},
   "outputs": [
    {
     "name": "stdout",
     "output_type": "stream",
     "text": [
      "[1, 4, 9, 16, 25]\n"
     ]
    }
   ],
   "source": [
    "x=[1,2,3,4,5]\n",
    "x2=[]\n",
    "for i in x:\n",
    "    s = i**2\n",
    "    x2.append(s)\n",
    "print(x2)"
   ]
  },
  {
   "cell_type": "code",
   "execution_count": 25,
   "metadata": {},
   "outputs": [
    {
     "name": "stdout",
     "output_type": "stream",
     "text": [
      "[4, 5, 6, 9, 1]\n",
      "[16, 25, 36, 81, 1]\n"
     ]
    }
   ],
   "source": [
    "x=[4,5,6,9,1]\n",
    "x2=[i**2 for i in x]\n",
    "print(x)\n",
    "print(x2)"
   ]
  },
  {
   "cell_type": "code",
   "execution_count": 30,
   "metadata": {},
   "outputs": [
    {
     "name": "stdout",
     "output_type": "stream",
     "text": [
      "[-9, -8, -7, -6, -5, -4, -3, -2, -1, 0]\n"
     ]
    }
   ],
   "source": [
    "a=[1,2,3,4,5,6,7,8,9,10]\n",
    "b= [i-10 for i in a]\n",
    "print(b)"
   ]
  },
  {
   "cell_type": "code",
   "execution_count": 33,
   "metadata": {},
   "outputs": [
    {
     "name": "stdout",
     "output_type": "stream",
     "text": [
      "[15, 3, 12, 11, 6, 7]\n",
      "[144, 36]\n",
      "[10, -2, 6, 2]\n"
     ]
    }
   ],
   "source": [
    "x=[15,3,12,11,6,7]\n",
    "x2=[i**2 for i in x if i % 2==0]\n",
    "x3=[i-5 for i in x if i%2!=0]\n",
    "print(x)\n",
    "print(x2)\n",
    "print(x3)"
   ]
  },
  {
   "cell_type": "code",
   "execution_count": 34,
   "metadata": {},
   "outputs": [
    {
     "name": "stdout",
     "output_type": "stream",
     "text": [
      "[65, 68, 70, 80]\n",
      "['A', 'D', 'F', 'P']\n"
     ]
    }
   ],
   "source": [
    "a=[65,68,70,80]\n",
    "b=[chr(i) for i in a]\n",
    "print(a)\n",
    "print(b)"
   ]
  },
  {
   "cell_type": "code",
   "execution_count": 36,
   "metadata": {},
   "outputs": [
    {
     "name": "stdout",
     "output_type": "stream",
     "text": [
      "['A', 1, 2, 3, 'B', 'C', 'D', 4, 5, 5, 1, 1, 6]\n",
      "[1, 2, 3, 4, 5, 5, 1, 1, 6]\n",
      "['A', 'B', 'C', 'D']\n"
     ]
    }
   ],
   "source": [
    "crap_list =[\"A\",1,2,3,\"B\",\"C\",\"D\",4,5,5,1,1,6]\n",
    "clean_list=[i for i in crap_list if isinstance(i,int)]\n",
    "print(crap_list)\n",
    "print(clean_list)\n",
    "list=[i for i in crap_list if isinstance(i,str)]\n",
    "print(list)"
   ]
  },
  {
   "cell_type": "code",
   "execution_count": 37,
   "metadata": {},
   "outputs": [
    {
     "name": "stdout",
     "output_type": "stream",
     "text": [
      "[23, 45, 78, 65, 90]\n"
     ]
    }
   ],
   "source": [
    "# make all the input to a int list\n",
    "nums=[int(n) for n in input().split()]\n",
    "print(nums)"
   ]
  },
  {
   "cell_type": "markdown",
   "metadata": {},
   "source": [
    "### tuple"
   ]
  },
  {
   "cell_type": "code",
   "execution_count": 39,
   "metadata": {},
   "outputs": [
    {
     "name": "stdout",
     "output_type": "stream",
     "text": [
      "(1, 2, 3, 4, 5) <class 'tuple'>\n",
      "(1, 2, 3, 4, 5) <class 'tuple'>\n",
      "(1,)\n",
      "(1, 1, 1, 1, 1)\n",
      "(1, 2, 3, 4, 5) <class 'tuple'>\n"
     ]
    }
   ],
   "source": [
    "a=(1,2,3,4,5)\n",
    "print(a, type(a))\n",
    "b=1,2,3,4,5\n",
    "print(b, type(b))\n",
    "c=(1,)\n",
    "print(c)\n",
    "d=(1,)*5 # tuple duplication\n",
    "print(d)\n",
    "e= tuple([1,2,3,4,5,])\n",
    "print(e,type(e))\n"
   ]
  },
  {
   "cell_type": "code",
   "execution_count": 40,
   "metadata": {},
   "outputs": [
    {
     "name": "stdout",
     "output_type": "stream",
     "text": [
      "1\n",
      "2\n",
      "5\n",
      "(1, 2, 3)\n",
      "(4, 5)\n"
     ]
    }
   ],
   "source": [
    "print(a[0])\n",
    "print(a[1])\n",
    "print(a[-1])\n",
    "print(a[:3])\n",
    "print(a[3:])"
   ]
  },
  {
   "cell_type": "code",
   "execution_count": 41,
   "metadata": {},
   "outputs": [
    {
     "name": "stdout",
     "output_type": "stream",
     "text": [
      "4\n",
      "1\n"
     ]
    }
   ],
   "source": [
    "x=(1,1,1,1,3,4,5,6,7)\n",
    "print(x.count(1))\n",
    "print(x.count(4))"
   ]
  },
  {
   "cell_type": "code",
   "execution_count": null,
   "metadata": {},
   "outputs": [],
   "source": []
  }
 ],
 "metadata": {
  "kernelspec": {
   "display_name": "base",
   "language": "python",
   "name": "python3"
  },
  "language_info": {
   "codemirror_mode": {
    "name": "ipython",
    "version": 3
   },
   "file_extension": ".py",
   "mimetype": "text/x-python",
   "name": "python",
   "nbconvert_exporter": "python",
   "pygments_lexer": "ipython3",
   "version": "3.12.3"
  }
 },
 "nbformat": 4,
 "nbformat_minor": 2
}
